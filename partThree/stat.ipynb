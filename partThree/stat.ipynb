{
 "cells": [
  {
   "cell_type": "code",
   "execution_count": 367,
   "metadata": {},
   "outputs": [],
   "source": [
    "# Import potrebných knihoven\n",
    "import pandas as pd\n",
    "import numpy as np\n",
    "from scipy.stats import chi2_contingency, mannwhitneyu, shapiro\n",
    "\n",
    "# Načtení datasetu\n",
    "df_accidents = pd.read_pickle(\"accidents.pkl.gz\")\n",
    "df_vehicles = pd.read_pickle(\"vehicles.pkl.gz\")"
   ]
  },
  {
   "cell_type": "markdown",
   "metadata": {},
   "source": [
    "# Test hypotézy (xhejni00)\n",
    "\n",
    "## 1. příklad\n",
    "\n",
    "### Zadaní (hypotéza 1): Na silnicích první třídy byly nehody s následky na zdraví se stejnou pravděpodobností jako na dálnicích.\n",
    "\n",
    "Hypotéza 1 je zároveň hypotézou nula pro náš chí kvadrát test. H0: Na silnicích I. třídy byly dané nehody se stejnou pravděpodobností jako na dálnicích\n",
    "Hypotéza H1: Na silnicích I. třídy nejsou dané nehody se stejnou pravděpodobností jako na dálnících.\n",
    "\n",
    "Daným nehodám rozumějme nehody s následky na zdraví."
   ]
  },
  {
   "cell_type": "markdown",
   "metadata": {},
   "source": [
    "Nejprve vyfiltrujeme pouze nehody, které se staly na dálnici nebo silnici první třídy"
   ]
  },
  {
   "cell_type": "code",
   "execution_count": 368,
   "metadata": {},
   "outputs": [],
   "source": [
    "df_accidents = df_accidents[df_accidents['p36'].isin([0, 1])]"
   ]
  },
  {
   "cell_type": "markdown",
   "metadata": {},
   "source": [
    "Dále vytvoříme dva binární sloupce \"highway\" a \"injury\". Hodnoty ve sloupci \"highway\" nabývají hodnoty True pokud se jedná o dálnici, False v opačném případě. Hodnoty v druhém slpupci nabývají hodnoty True pokud došlo k nehodě s následky na zdraví, False v opačném případě"
   ]
  },
  {
   "cell_type": "code",
   "execution_count": 369,
   "metadata": {},
   "outputs": [],
   "source": [
    "df_accidents['highway'] = df_accidents['p36'] == 0 \n",
    "df_accidents['injury'] = df_accidents['p9'] == 1"
   ]
  },
  {
   "cell_type": "markdown",
   "metadata": {},
   "source": [
    "Dalším krokem je vytvoření kontigenční tabulky pro dané sloupce. Ta nám pomůže vizualizovat vztah dvou kategorií statistických znaků. V našem případě se jedná o vztah mezi typem silnice a nehodami s následky na zdraví."
   ]
  },
  {
   "cell_type": "code",
   "execution_count": 370,
   "metadata": {},
   "outputs": [
    {
     "data": {
      "text/html": [
       "<div>\n",
       "<style scoped>\n",
       "    .dataframe tbody tr th:only-of-type {\n",
       "        vertical-align: middle;\n",
       "    }\n",
       "\n",
       "    .dataframe tbody tr th {\n",
       "        vertical-align: top;\n",
       "    }\n",
       "\n",
       "    .dataframe thead th {\n",
       "        text-align: right;\n",
       "    }\n",
       "</style>\n",
       "<table border=\"1\" class=\"dataframe\">\n",
       "  <thead>\n",
       "    <tr style=\"text-align: right;\">\n",
       "      <th>injury</th>\n",
       "      <th>False</th>\n",
       "      <th>True</th>\n",
       "    </tr>\n",
       "    <tr>\n",
       "      <th>highway</th>\n",
       "      <th></th>\n",
       "      <th></th>\n",
       "    </tr>\n",
       "  </thead>\n",
       "  <tbody>\n",
       "    <tr>\n",
       "      <th>False</th>\n",
       "      <td>14773</td>\n",
       "      <td>7059</td>\n",
       "    </tr>\n",
       "    <tr>\n",
       "      <th>True</th>\n",
       "      <td>6674</td>\n",
       "      <td>1247</td>\n",
       "    </tr>\n",
       "  </tbody>\n",
       "</table>\n",
       "</div>"
      ],
      "text/plain": [
       "injury   False  True \n",
       "highway              \n",
       "False    14773   7059\n",
       "True      6674   1247"
      ]
     },
     "execution_count": 370,
     "metadata": {},
     "output_type": "execute_result"
    }
   ],
   "source": [
    "ct = pd.crosstab(df_accidents['highway'], df_accidents['injury'])\n",
    "ct"
   ]
  },
  {
   "cell_type": "markdown",
   "metadata": {},
   "source": [
    "Tuto kontingenční tabulku využijeme pro chí kvadrát test, který je spočítán funkcí **chi2_contingency**. **P-value** získanou tímto testem použijeme pro prokázání nebo zamítnutí nulové hypotézy. Zadání požaduje hladinu významnosti **95 %**, tedy alfa je 0.05. Proti této hodně dále postavíme získanou p-hodnotu."
   ]
  },
  {
   "cell_type": "code",
   "execution_count": 371,
   "metadata": {},
   "outputs": [
    {
     "name": "stdout",
     "output_type": "stream",
     "text": [
      "P-hodnota: 1.0075002730159729e-174\n",
      "Zamítáme nulovou hypotézu, tedy jsme nepotvrdili stejnou míru zranění na dálnici a na silnicích první třídy.\n"
     ]
    }
   ],
   "source": [
    "result = chi2_contingency(ct)\n",
    "print(f'P-hodnota: {result.pvalue}')\n",
    "\n",
    "if result.pvalue < 0.05:\n",
    "    print(\"Zamítáme nulovou hypotézu, tedy jsme nepotvrdili stejnou míru zranění na dálnici a na silnicích první třídy.\")\n",
    "else:\n",
    "    print(\"Nezamitáme nulovou hypotézu, a tedy je pravděpodobnost daných nehod s následky na zdraví na obou typech silnic stejná.\")"
   ]
  },
  {
   "cell_type": "markdown",
   "metadata": {},
   "source": [
    "Vzhledem k výsledku p-value, která je velice malá (asi 1.0e-174) **zamítáme nulovou hypotézu**, tedy říkáme že s 95 % jistotou nejsou na obou typech silnic nehody s následky na zdraví se stejnou pravděpodobností."
   ]
  },
  {
   "cell_type": "markdown",
   "metadata": {},
   "source": [
    "V neposlední řadě zodpovíme otázku, zdali nehody na silnicích 1. třídy vedly méně nebo více často k nehodě s následky na zdraví. K tomu využijeme výstup expected, který vrací již dříve použitá funkce pro výpočet testu. "
   ]
  },
  {
   "cell_type": "code",
   "execution_count": 372,
   "metadata": {},
   "outputs": [
    {
     "name": "stdout",
     "output_type": "stream",
     "text": [
      "[[15737.26696468  6094.73303532]\n",
      " [ 5709.73303532  2211.26696468]]\n"
     ]
    }
   ],
   "source": [
    "print(result.expected_freq)"
   ]
  },
  {
   "cell_type": "markdown",
   "metadata": {},
   "source": [
    "Tato tabulka nám říká očekávané hodnoty v kontingenční tabulce, aby nedošlo k zamítnutí nulové hypotézy. **V našem i tomto případě lze říci, že na silnicích I. třídy dochází k nehodám s následky na zdraví častěji než na dálnicích.**"
   ]
  },
  {
   "cell_type": "markdown",
   "metadata": {},
   "source": [
    "## 2. příklad\n",
    "\n",
    "### Zadaní (hypotéza 2): Škoda při nehodách trolejbusů je nižší, než při nehodách autobusů a tato odchylka je statisticky významná.\n",
    "\n",
    "Jako nulovou hypotézu H0 zvolíme, že škoda při nehodách trolejbusů **není nižší** než při nehodách autobusů. (v dokumentaci [funkce](https://docs.scipy.org/doc/scipy/reference/generated/scipy.stats.mannwhitneyu.html) použité pro test, kde srovnávali muže a ženy měli nulovou hypotézu vyjádřenou stejně)\n",
    " \n",
    "Jako alternativní hypotézu H1 zvolíme tu ze zadaní, tedy že škoda při nehodách trolejbusů **je nižší** než při nehodách autobusů (ta je parametrem pro test níže).\n",
    "\n",
    "(V praxi by neměl být problém prohození obou hypotéz, jen je s nimi potřeba dobře dále pracovat.)"
   ]
  },
  {
   "cell_type": "markdown",
   "metadata": {},
   "source": [
    "Nejprve je třeba nutné zjistit, zdali data pocházejí z **normálního rozdělení**, což zjistíme například pomocí **Shapiro-Wilk testu**. Díky zjištění rozdělení dat, dále můžeme určit vhodný statistický test.\n",
    "\n",
    "Před provedením testu jsou vytvořeny dva datasety pocházející z původního datasetu - jeden pro autobusy a druhý pro trolejbusy. Pro sloupec \"p53\", který reprezentuje škodu na vozidle ve stokorunách, je proveden Shapiro-Wilk test ověřující normalitu dat."
   ]
  },
  {
   "cell_type": "code",
   "execution_count": 373,
   "metadata": {},
   "outputs": [
    {
     "name": "stdout",
     "output_type": "stream",
     "text": [
      "Výsledná p-hodnota pro autobusy: 5.286327503539159e-82\n",
      "Výsledná p-hodnota pro trolejbusy: 3.0873452435991516e-31\n",
      "Data škod na autobusech nemají normální rozdělení.\n",
      "Data škod na trolejbusech nemají normální rozdělení.\n"
     ]
    }
   ],
   "source": [
    "df_bus = df_vehicles[df_vehicles['p44'] == 8]\n",
    "df_trolleybus = df_vehicles[df_vehicles['p44'] == 11]\n",
    "\n",
    "busNormality = shapiro(df_bus['p53'])\n",
    "trolleybusNormality = shapiro(df_trolleybus['p53'])\n",
    "\n",
    "print(f'Výsledná p-hodnota pro autobusy: {busNormality.pvalue}')\n",
    "print(f'Výsledná p-hodnota pro trolejbusy: {trolleybusNormality.pvalue}')\n",
    "\n",
    "if busNormality.pvalue < 0.05:\n",
    "    print(\"Data škod na autobusech nemají normální rozdělení.\")\n",
    "else:\n",
    "    print(\"Data škod na autobusech mají normální rozdělení.\")\n",
    "\n",
    "if trolleybusNormality.pvalue < 0.05:\n",
    "    print(\"Data škod na trolejbusech nemají normální rozdělení.\")\n",
    "else:\n",
    "    print(\"Data škod na trolejbusech mají normální rozdělení.\")\n"
   ]
  },
  {
   "cell_type": "markdown",
   "metadata": {},
   "source": [
    "Výsledek ukazuje, že data obou dopravních prostředků **nemají normální rozdělení** a nemůžeme tedy počítat s průměry, jelikož hodnota p-value, která je výsledkem tohoto testu je menší než 0.05, což je hladina významnosti, zvolená zadáním. V takovém případě použijeme Mann-Whitneyho U-Test, který je neparametrickou verzí t-testu pro nezávislé vzorky. Jedná se o test nulové hypotézy, že pro náhodně vybrané hodnoty X a Y ze dvou populací (v našem případě typů vozidel) se pravděpodobnost, že X bude větší než Y, rovná pravděpodobnosti, že Y\n",
    "bude větší než X (tedy že hodnoty jsou přibližně stejné)."
   ]
  },
  {
   "cell_type": "markdown",
   "metadata": {},
   "source": [
    "Ještě před samotným testem je dobré se podívat na mediány škod na daných vozidlech, které jsou převedeny na Kč. Ty nám ukazují, že škoda na autobusech je násobně větší než na trolejbusech."
   ]
  },
  {
   "cell_type": "code",
   "execution_count": 374,
   "metadata": {},
   "outputs": [
    {
     "name": "stdout",
     "output_type": "stream",
     "text": [
      "Medián škod autobusu: 20000 Kč\n",
      "Medián škod trolejbusu: 5000 Kč\n"
     ]
    }
   ],
   "source": [
    "print(f'Medián škod autobusu: {(df_bus[\"p53\"].median() * 100):.0f} Kč')\n",
    "print(f'Medián škod trolejbusu: {(df_trolleybus[\"p53\"].median() * 100):.0f} Kč')"
   ]
  },
  {
   "cell_type": "markdown",
   "metadata": {},
   "source": [
    "Vstupem do Mann-Whitneyho testu jsou jednotlivé hodnoty škod na dle typu vozidla a hodnota parametru **alternative** \"less\", která specifikuje jednostranný test (testuje zda hodnoty z 1. skupiny jsou menší než ze 2. skupiny). To odpovídá alternativní hypotéze H1, tedy že škoda při nehodách trolejbusu je nižší než při nehodách autobusu. Výsledkem je jako v případě 1. příkladu p-hodnota, která určí zdali zamítáme nulovou hypotézu či nikoliv."
   ]
  },
  {
   "cell_type": "code",
   "execution_count": 375,
   "metadata": {},
   "outputs": [
    {
     "name": "stdout",
     "output_type": "stream",
     "text": [
      "Výsledná p-hodnota: 1.7702098289956038e-13\n",
      "Zamítáme hypotézu H0 ve prospěch alternativní hypotézy, tedy s 95 % spolehlivostí říkáme, že škody při nehodě trolejbusu jsou statisticky nižší oproti autobusu.\n"
     ]
    }
   ],
   "source": [
    "result = mannwhitneyu(df_trolleybus['p53'], df_bus['p53'], alternative='less')\n",
    "print(f'Výsledná p-hodnota: {result.pvalue}')\n",
    "\n",
    "if result.pvalue < 0.05:\n",
    "    print(\"Zamítáme hypotézu H0 ve prospěch alternativní hypotézy, tedy s 95 % spolehlivostí říkáme, že škody při nehodě trolejbusu jsou statisticky nižší oproti autobusu.\")\n",
    "else:\n",
    "    print(\"Nezamítáme nulovou hypotézu, a tedy jsme neprokázali statisticky nižší škodu při nehodách trolejbusu oproti autobusu (nemáme dost důkazů).\")"
   ]
  },
  {
   "cell_type": "markdown",
   "metadata": {},
   "source": [
    "Výsledek ukazuje, že s 95 % spolehlivostí **zamítáme naši nulovou hypotézu**, a tedy se potvrdilo, že trolejbusy mají **nižší** škody než autobusy. Tímto testem jsme tedy potvrdili prvotní odhad z mediánů škod na vozidlech a zároveň statistickou významnost tohoto rozdílu."
   ]
  }
 ],
 "metadata": {
  "kernelspec": {
   "display_name": "venv",
   "language": "python",
   "name": "python3"
  },
  "language_info": {
   "codemirror_mode": {
    "name": "ipython",
    "version": 3
   },
   "file_extension": ".py",
   "mimetype": "text/x-python",
   "name": "python",
   "nbconvert_exporter": "python",
   "pygments_lexer": "ipython3",
   "version": "3.12.3"
  }
 },
 "nbformat": 4,
 "nbformat_minor": 2
}
