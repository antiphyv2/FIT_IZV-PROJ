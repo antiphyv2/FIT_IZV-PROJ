{
 "cells": [
  {
   "cell_type": "code",
   "execution_count": 104,
   "metadata": {},
   "outputs": [],
   "source": [
    "# Import potrebných knihoven\n",
    "import pandas as pd\n",
    "import numpy as np\n",
    "from scipy.stats import chi2_contingency\n",
    "\n",
    "# Načtení datasetu\n",
    "df_accidents = pd.read_pickle(\"accidents.pkl.gz\")"
   ]
  },
  {
   "cell_type": "markdown",
   "metadata": {},
   "source": [
    "# Test hypotézy (xhejni00)\n",
    "\n",
    "## 1. příklad\n",
    "\n",
    "Zadaní (hypotéza 1): Na silnicích první třídy byly nehody s následky na zdraví se stejnou pravděpodobností\n",
    "jako na dálnicích.\n",
    "\n",
    "Hypotéza 1 je zároveň hypotézou nula pro náš chí kvadrát test. H0: Na silnicích I. třídy byly dané nehody se stejnou pravděpodobností jako na dálnicích\n",
    "Hypotéza H1: Na silnicích I. třídy nejsou dané nehody se stejnou pravděpodobností jako na dálnících.\n",
    "\n",
    "Daným nehodám rozumějme nehody s následky na zdraví."
   ]
  },
  {
   "cell_type": "markdown",
   "metadata": {},
   "source": [
    "Nejprve vyfiltrujeme pouze nehody, které se staly na dálnici nebo silnici první třídy"
   ]
  },
  {
   "cell_type": "code",
   "execution_count": 105,
   "metadata": {},
   "outputs": [],
   "source": [
    "df_accidents = df_accidents[df_accidents['p36'].isin([0, 1])]"
   ]
  },
  {
   "cell_type": "markdown",
   "metadata": {},
   "source": [
    "Dále vytvoříme dva binární sloupce \"highway\" a \"injury\". Hodnoty ve sloupci \"highway\" nabývají hodnoty True pokud se jedná o dálnici, False v opačném případě. Hodnoty v druhém slpupci nabývají hodnoty True pokud došlo k nehodě s následky na zdraví, False v opačném případě"
   ]
  },
  {
   "cell_type": "code",
   "execution_count": 106,
   "metadata": {},
   "outputs": [],
   "source": [
    "df_accidents['highway'] = df_accidents['p36'] == 0 \n",
    "df_accidents['injury'] = df_accidents['p9'] == 1"
   ]
  },
  {
   "cell_type": "markdown",
   "metadata": {},
   "source": [
    "Dalším krokem je vytvoření kontigenční tabulky pro dané sloupce."
   ]
  },
  {
   "cell_type": "code",
   "execution_count": 107,
   "metadata": {},
   "outputs": [
    {
     "data": {
      "text/html": [
       "<div>\n",
       "<style scoped>\n",
       "    .dataframe tbody tr th:only-of-type {\n",
       "        vertical-align: middle;\n",
       "    }\n",
       "\n",
       "    .dataframe tbody tr th {\n",
       "        vertical-align: top;\n",
       "    }\n",
       "\n",
       "    .dataframe thead th {\n",
       "        text-align: right;\n",
       "    }\n",
       "</style>\n",
       "<table border=\"1\" class=\"dataframe\">\n",
       "  <thead>\n",
       "    <tr style=\"text-align: right;\">\n",
       "      <th>injury</th>\n",
       "      <th>False</th>\n",
       "      <th>True</th>\n",
       "    </tr>\n",
       "    <tr>\n",
       "      <th>highway</th>\n",
       "      <th></th>\n",
       "      <th></th>\n",
       "    </tr>\n",
       "  </thead>\n",
       "  <tbody>\n",
       "    <tr>\n",
       "      <th>False</th>\n",
       "      <td>14773</td>\n",
       "      <td>7059</td>\n",
       "    </tr>\n",
       "    <tr>\n",
       "      <th>True</th>\n",
       "      <td>6674</td>\n",
       "      <td>1247</td>\n",
       "    </tr>\n",
       "  </tbody>\n",
       "</table>\n",
       "</div>"
      ],
      "text/plain": [
       "injury   False  True \n",
       "highway              \n",
       "False    14773   7059\n",
       "True      6674   1247"
      ]
     },
     "execution_count": 107,
     "metadata": {},
     "output_type": "execute_result"
    }
   ],
   "source": [
    "ct = pd.crosstab(df_accidents['highway'], df_accidents['injury'])\n",
    "ct"
   ]
  },
  {
   "cell_type": "markdown",
   "metadata": {},
   "source": [
    "Tuto kontingenční tabulku využijeme pro chí kvadrát test, který je spočítán funkcí chi2_contingency. P-value získanou tímto testem použijeme pro prokázání nebo zamítnutí nulové hypotézy.\n",
    "Zadání požaduje hladinu spolehlivosti 95 %, tedy alfa je 0.05. Proti této hodně dále postavíme získanou p-hodnotu."
   ]
  },
  {
   "cell_type": "code",
   "execution_count": 108,
   "metadata": {},
   "outputs": [
    {
     "name": "stdout",
     "output_type": "stream",
     "text": [
      "P-hodnota: 1.0075002730159729e-174\n",
      "Zamítáme nulovou hypotézu, tedy jsme nepotvrdili stejnou míru zranění na dálnici a na silnicích první třídy.\n"
     ]
    }
   ],
   "source": [
    "result = chi2_contingency(ct)\n",
    "print(f'P-hodnota: {result.pvalue}')\n",
    "\n",
    "if result.pvalue < 0.05:\n",
    "    print(\"Zamítáme nulovou hypotézu, tedy jsme nepotvrdili stejnou míru zranění na dálnici a na silnicích první třídy.\")\n",
    "else:\n",
    "    print(\"Nezamitáme nulovou hypotézu, a tedy je pravděpodobnost daných nehod s následky na zdraví na obou typech silnic stejná.\")"
   ]
  },
  {
   "cell_type": "markdown",
   "metadata": {},
   "source": [
    "Vzhledem k výsledku p-value, která je velice malá (asi 1.0e-174) zamítáme nulovou hypotézu, tedy říkáme že s 95 % jistotou nejsou na obou typech silnic nehody s následky na zdraví se stejnou pravděpodobností."
   ]
  },
  {
   "cell_type": "markdown",
   "metadata": {},
   "source": [
    "V neposlední řadě zodpovíme otázku, zdali nehody na silnicích 1. třídy vedly méně nebo více často k nehodě s následky na zdraví. K tomu využijeme výstup expected, který vrací již dříve použitá funkce pro výpočet testu. "
   ]
  },
  {
   "cell_type": "code",
   "execution_count": 109,
   "metadata": {},
   "outputs": [
    {
     "name": "stdout",
     "output_type": "stream",
     "text": [
      "[[15737.26696468  6094.73303532]\n",
      " [ 5709.73303532  2211.26696468]]\n"
     ]
    }
   ],
   "source": [
    "print(result.expected_freq)"
   ]
  },
  {
   "cell_type": "markdown",
   "metadata": {},
   "source": [
    "Tato tabulka nám říká očekávané hodnoty v kontingenční tabulce, aby nedošlo k zamítnutí nulové hypotézy. V našem i tomto případě lze říci, že na silnicích I. třídy dochází k nehodám s následky na zdraví častěji než na dálnicích."
   ]
  }
 ],
 "metadata": {
  "kernelspec": {
   "display_name": "venv",
   "language": "python",
   "name": "python3"
  },
  "language_info": {
   "codemirror_mode": {
    "name": "ipython",
    "version": 3
   },
   "file_extension": ".py",
   "mimetype": "text/x-python",
   "name": "python",
   "nbconvert_exporter": "python",
   "pygments_lexer": "ipython3",
   "version": "3.12.3"
  }
 },
 "nbformat": 4,
 "nbformat_minor": 2
}
