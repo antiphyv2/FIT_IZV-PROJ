{
    "cells": [
        {
            "cell_type": "markdown",
            "metadata": {},
            "source": [
                "# Indexov\u00e1n\u00ed v NumPy v praxi\n",
                "Jako prvn\u00ed krok na\u010dteme knihovny Numpy a Matplotlib pro vizualizaci."
            ]
        },
        {
            "cell_type": "code",
            "execution_count": null,
            "metadata": {},
            "outputs": [],
            "source": [
                "import numpy as np\n",
                "import matplotlib.pyplot as plt"
            ]
        },
        {
            "cell_type": "markdown",
            "metadata": {},
            "source": [
                "## 1. Indexov\u00e1n\u00ed booleovsk\u00fdm polem\n",
                "\u00dakol: nakreslete sinusovku takm aby se zobrazovaly pouze kladn\u00e9 p\u016flperiody (jako po pr\u016fchodu diodou). D\u00e1le \u010d\u00e1rkovanou \u010darou dopl\u0148te chyb\u011bj\u00edc\u00ed z\u00e1porn\u00e9 p\u016flperiody."
            ]
        },
        {
            "cell_type": "code",
            "execution_count": null,
            "metadata": {},
            "outputs": [],
            "source": [
                "# vytvo\u0159\u00edme si pole x a y pro vykreslen\u00ed\n",
                "# vytvo\u0159\u00edme pole \"neg\" kter\u00e9 \u0159\u00edk\u00e1, zda jsme \n",
                "# v druh\u00e9 p\u016flperiod\u011b (x % 2pi > pi)\n",
                "# Zobraz\u00edme pouze kladn\u00e9 periody\n",
                "# Vytvo\u0159\u00edme si pole y2, kter\u00e9 v kladn\u00fdch poloh\u00e1ch bude nulov\u00e9\n"
            ]
        },
        {
            "cell_type": "markdown",
            "metadata": {},
            "source": [
                "## 2. Fancy indexing\n",
                "Uk\u00e1zka indexov\u00e1n\u00ed polem. Vytvo\u0159\u00edme si na za\u010d\u00e1tku pole n\u00e1hodn\u00fdch bod\u016f (2D)"
            ]
        },
        {
            "cell_type": "code",
            "execution_count": null,
            "metadata": {},
            "outputs": [],
            "source": [
                "X = np.random.multivariate_normal([0, 0], [[1, 2], [2, 5]], 100)"
            ]
        },
        {
            "cell_type": "markdown",
            "metadata": {},
            "source": [
                "Vykresl\u00edme body a n\u00e1hodn\u011b zakrou\u017ekujeme 10 bod\u016f"
            ]
        },
        {
            "cell_type": "code",
            "execution_count": null,
            "metadata": {},
            "outputs": [],
            "source": [
                "# Vybereme indexy pro krou\u017ekov\u00e1n\u00ed jako 10 ze 100 bod\u016f\n",
                "# Vykreslime body - mus\u00edme spr\u00e1vn\u011b extratovat x a y hodnoty\n"
            ]
        },
        {
            "cell_type": "markdown",
            "metadata": {},
            "source": [
                "D\u00e1le chceme zobrazit v\u0161echny body z X, kter\u00e9 jsou uvnit\u0159 kru\u017enice o st\u0159edu [0, 0] a vzd\u00e1lenosti 1"
            ]
        },
        {
            "cell_type": "code",
            "execution_count": null,
            "metadata": {},
            "outputs": [],
            "source": [
                "# Vytvo\u0159\u00edme si bool pole in_circle, kter\u00e9 \u0159\u00edk\u00e1, \u017ee x**2 + y**2 < 1**2\n",
                "in_circle ###\n",
                "# Vykreslime body\n",
                "plt.scatter(X[~in_circle, 0], X[~in_circle, 1], s = 2, c=\"tab:green\") ###\n",
                "plt.scatter(X[in_circle, 0], X[in_circle, 1], s=2, c=\"tab:orange\") ###\n",
                "plt.axis(\"equal\") ###\n",
                "# vykreslime kruh (matematicky vypocet, samozrejme je mozne pouzit i \n",
                "# plt.Circle a ax.add_patch())\n"
            ]
        },
        {
            "cell_type": "markdown",
            "metadata": {
                "slideshow": {
                    "slide_type": "slide"
                }
            },
            "source": [
                "## 3. Hleda\u010d min\n",
                "M\u011bjme 2D pole s 0 a jedni\u010dkou 1. Ur\u010d\u00edme, kolik m\u00e1 ka\u017ed\u00e1 bu\u0148ka min vedle sebe. **Pro jednoduchost se budeme d\u00edvat jen doleva a doprava ***"
            ]
        },
        {
            "cell_type": "code",
            "execution_count": null,
            "metadata": {},
            "outputs": [],
            "source": [
                "# Vytvo\u0159\u00edme si po\u010d\u00e1te\u010dn\u00ed pole\n",
                "X = np.random.choice([0, 1], size=(8,8))\n",
                "X"
            ]
        },
        {
            "cell_type": "code",
            "execution_count": null,
            "metadata": {},
            "outputs": [],
            "source": [
                "# Vytvo\u0159it pole nul (Y) pro v\u00fdsledky (jako X)\n",
                "# Vypo\u010d\u00edtat v\u0161echny vnit\u0159n\u00ed sloupce\n",
                "# Vypo\u010d\u00edtat kraje\n",
                "Y ###"
            ]
        },
        {
            "cell_type": "markdown",
            "metadata": {},
            "source": [
                "# Heating equation"
            ]
        },
        {
            "cell_type": "markdown",
            "metadata": {},
            "source": [
                "V\u00fdpo\u010det oh\u0159\u00edv\u00e1n\u00ed desti\u010dky podle toho, jak se v n\u00ed \u0161\u00ed\u0159\u00ed teplota. Uk\u00e1zka \u010derp\u00e1 z n\u00e1sleduj\u00edc\u00edho [zdroje](https://scipython.com/book/chapter-7-matplotlib/examples/the-two-dimensional-diffusion-equation/)"
            ]
        },
        {
            "cell_type": "markdown",
            "metadata": {},
            "source": [
                "Nastav\u00edme tedy po\u010d\u00e1te\u010dn\u00ed podm\u00ednky (desku bod\u016f)"
            ]
        },
        {
            "cell_type": "code",
            "execution_count": null,
            "metadata": {},
            "outputs": [],
            "source": [
                "# plate size, mm\n",
                "w = h = 10.\n",
                "# intervals in x-, y- directions, mm\n",
                "dx = dy = 0.1\n",
                "# Thermal diffusivity of steel, mm2.s-1\n",
                "D = 4.\n",
                "\n",
                "Tcool, Thot = 100, 700\n",
                "\n",
                "nx, ny = int(w/dx), int(h/dy)\n",
                "\n",
                "dx2, dy2 = dx*dx, dy*dy\n",
                "dt = dx2 * dy2 / (2 * D * (dx2 + dy2))\n",
                "\n",
                "u0 = Tcool * np.ones((nx, ny))\n",
                "u = u0.copy()\n",
                "\n",
                "# Initial conditions - circle of radius r centred at (cx,cy) (mm)\n",
                "r, cx, cy = 4, 5, 5\n",
                "r2 = r**2\n",
                "for i in range(nx):\n",
                "   for j in range(ny):\n",
                "        p2 = (i*dx-cx)**2 + (j*dy-cy)**2\n",
                "        if p2 < r2:\n",
                "            u0[i,j] = Thot\n",
                "plt.imshow(u0, cmap=plt.get_cmap('hot'), vmin=Tcool,vmax=Thot)\n"
            ]
        },
        {
            "cell_type": "markdown",
            "metadata": {},
            "source": [
                "A provedeme v\u00fdpo\u010det podle numerick\u00e9 difuzn\u00ed rovnice"
            ]
        },
        {
            "cell_type": "code",
            "execution_count": null,
            "metadata": {},
            "outputs": [],
            "source": [
                "def do_timestep(u0, u):\n",
                "    # Propagate with forward-difference in time, central-difference in space\n",
                "    u[1:-1, 1:-1] = u0[1:-1, 1:-1] + D * dt * (\n",
                "          (u0[2:, 1:-1] - 2*u0[1:-1, 1:-1] + u0[:-2, 1:-1])/dx2\n",
                "          + (u0[1:-1, 2:] - 2*u0[1:-1, 1:-1] + u0[1:-1, :-2])/dy2 )\n",
                "\n",
                "    u0 = u.copy()\n",
                "    return u0, u\n",
                "\n",
                "# Number of timesteps\n",
                "# Output 4 figures at these timesteps\n",
                "mfig = [0, 10, 100, 1000]\n",
                "nsteps = max(mfig) + 1\n",
                "fignum = 0\n",
                "fig = plt.figure(figsize=(8, 8))\n",
                "for m in range(nsteps):\n",
                "    u0, u = do_timestep(u0, u)\n",
                "    if m in mfig:\n",
                "        fignum += 1\n",
                "        ax = fig.add_subplot(220 + fignum)\n",
                "        im = ax.imshow(u.copy(), cmap=plt.get_cmap('hot'), vmin=Tcool,vmax=Thot)\n",
                "        ax.set_axis_off()\n",
                "        ax.set_title('{:.1f} ms'.format(m*dt*1000))\n",
                "fig.subplots_adjust(right=0.85)\n",
                "cbar_ax = fig.add_axes([0.9, 0.15, 0.03, 0.17])\n",
                "cbar_ax.set_xlabel('$T$ / K', labelpad=20)\n",
                "fig.colorbar(im, cax=cbar_ax)\n",
                "plt.show()"
            ]
        },
        {
            "cell_type": "code",
            "execution_count": null,
            "metadata": {},
            "outputs": [],
            "source": []
        }
    ],
    "metadata": {
        "celltoolbar": "Slideshow",
        "interpreter": {
            "hash": "767d51c1340bd893661ea55ea3124f6de3c7a262a8b4abca0554b478b1e2ff90"
        },
        "kernelspec": {
            "display_name": "Python 3 (ipykernel)",
            "language": "python",
            "name": "python3"
        },
        "language_info": {
            "codemirror_mode": {
                "name": "ipython",
                "version": 3
            },
            "file_extension": ".py",
            "mimetype": "text/x-python",
            "name": "python",
            "nbconvert_exporter": "python",
            "pygments_lexer": "ipython3",
            "version": "3.12.3"
        }
    },
    "nbformat": 4,
    "nbformat_minor": 4
}