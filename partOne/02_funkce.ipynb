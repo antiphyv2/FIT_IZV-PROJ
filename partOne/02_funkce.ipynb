{
    "cells": [
        {
            "cell_type": "markdown",
            "metadata": {
                "slideshow": {
                    "slide_type": "slide"
                }
            },
            "source": [
                "# Funkce a broadcasting NumPy\n"
            ]
        },
        {
            "cell_type": "markdown",
            "metadata": {},
            "source": [
                "## 1. Vykreslen\u00ed sinusovky\n",
                "Vykresl\u00edme sinusovku\n",
                "$$ y= sin(x+2 + 1) + 1 $$\n"
            ]
        },
        {
            "cell_type": "code",
            "execution_count": null,
            "metadata": {},
            "outputs": [],
            "source": [
                "import numpy as np\n",
                "import matplotlib.pyplot as plt\n",
                "from math import sin\n"
            ]
        },
        {
            "cell_type": "markdown",
            "metadata": {
                "slideshow": {
                    "slide_type": "slide"
                }
            },
            "source": [
                "Sinusovku vypo\u010d\u00edt\u00e1me a zakresl\u00edme do grafu"
            ]
        },
        {
            "cell_type": "code",
            "execution_count": null,
            "metadata": {
                "slideshow": {
                    "slide_type": "slide"
                }
            },
            "outputs": [],
            "source": [
                "x = np.linspace(0, 4 * np.pi, 1000) ###\n"
            ]
        },
        {
            "cell_type": "markdown",
            "metadata": {
                "slideshow": {
                    "slide_type": "slide"
                }
            },
            "source": [
                "## 2. V\u00fdpo\u010det charakteristiky RC \u010dl\u00e1nku (komplexn\u00ed \u010d\u00edsla)\n",
                "Vy\u0159e\u0161me RC \u010dl\u00e1nek v st\u0159\u00eddav\u00e9m nap\u011bt\u00ed. V\u00edme (z elektroniky), \u017ee je to mo\u017en\u00e9 \u0159e\u0161it v oblasti komplexn\u00edch \u010d\u00edsel. \n",
                "\n",
                "$$Z_R = R$$\n",
                "$$Z_C = \\frac{1}{j \\omega C}$$\n",
                "\n",
                "$$\\omega = 2\\pi f$$\n",
                "\n",
                "![RC \u010dl\u00e1nek](https://upload.wikimedia.org/wikipedia/commons/e/e0/RC_Series_Filter_%28with_V%26I_Labels%29.svg)"
            ]
        },
        {
            "cell_type": "markdown",
            "metadata": {},
            "source": [
                "Kombinac\u00ed Ohmova a Kirchhofova z\u00e1kona ur\u010d\u00edme, jak vypad\u00e1 nap\u011bt\u00ed $V_C$.\n",
                "$$V_C = Z_C \\cdot \\frac{V_{in}}{Z_R + Z_C}$$\n",
                "a pod\u00edv\u00e1me se na p\u0159enosovou charekteristiku (tj $V_C$ v z\u00e1visloti na frekvenci)."
            ]
        },
        {
            "cell_type": "markdown",
            "metadata": {
                "slideshow": {
                    "slide_type": "slide"
                }
            },
            "source": [
                "$$Z_C = \\frac{1}{j \\cdot 2  \\pi f C}$$\n"
            ]
        },
        {
            "cell_type": "code",
            "execution_count": null,
            "metadata": {
                "slideshow": {
                    "slide_type": "-"
                }
            },
            "outputs": [],
            "source": [
                "# TODO: definice frekvenc\u00ed (logspace od 10**-1 po 10**3) a impendance Z_C pro C=10e-3\n",
                "V_in = 5 ### 5 V vstup ###\n",
                "Z_R = 100 ### 100 ###\n",
                "U_C = Z_C * V_in / (Z_R + Z_C) ###"
            ]
        },
        {
            "cell_type": "markdown",
            "metadata": {},
            "source": [
                "Nyn\u00ed m\u016f\u017eeme hodnotu $U_C$ vykreslit. Abychom mohli vykreslit komplexn\u00ed \u010d\u00edslo, mus\u00edme samostatn\u011b zobrazit jeho absolutn\u00ed hodnotu (`np.abs`) a \u00fahel (`np.angle`)."
            ]
        },
        {
            "cell_type": "code",
            "execution_count": null,
            "metadata": {
                "slideshow": {
                    "slide_type": "slide"
                }
            },
            "outputs": [],
            "source": [
                "import matplotlib.pyplot as plt\n",
                "fig, (ax1, ax2) = plt.subplots(2, 1, figsize=(8, 8))\n",
                "\n",
                "ax1.plot(f, np.abs(U_C)) # Pozor - museli jsme udelat absolutni hodnotu\n",
                "ax1.set(\n",
                "    xscale=\"log\",\n",
                "    xlabel=\"frequency [Hz]\",\n",
                "    ylabel=\"voltage [V]\")\n",
                "\n",
                "ax2.plot(f, np.angle(U_C) / np.pi * 180)\n",
                "ax2.set(\n",
                "    xscale=\"log\",\n",
                "    xlabel=\"frequency [Hz]\",\n",
                "    ylabel=\"phase [rad]\")\n",
                "\n",
                "plt.show()"
            ]
        },
        {
            "cell_type": "markdown",
            "metadata": {},
            "source": [
                "## 3 - kreslen\u00ed 2-dimenzion\u00e1ln\u00edch funkc\u00ed"
            ]
        },
        {
            "cell_type": "markdown",
            "metadata": {},
            "source": [
                "Budeme vizualizovat tuto funkci (jako heatmapu)\n",
                "$$f(x, y) = sin(x) + cos(y) \\cdot x$$\n",
                "pro $x, y \\in (-\\pi, \\pi)$"
            ]
        },
        {
            "cell_type": "code",
            "execution_count": null,
            "metadata": {},
            "outputs": [],
            "source": [
                "# Vytvo\u0159\u00edme line\u00e1rn\u00ed prostor X a Y\n"
            ]
        },
        {
            "cell_type": "code",
            "execution_count": null,
            "metadata": {},
            "outputs": [],
            "source": [
                "# spatny zpusob\n",
                "def calc_v1(X, Y):\n",
                "    Z1 = np.empty((Y.shape[0], X.shape[0]))\n",
                "    for ix, x in enumerate(X):\n",
                "        for iy, y in enumerate(Y):\n",
                "            Z1[iy, ix] = np.sin(x) + np.cos(y) * x\n",
                "    return Z1\n",
                "Z1 = calc_v1(X, Y)"
            ]
        },
        {
            "cell_type": "code",
            "execution_count": null,
            "metadata": {},
            "outputs": [],
            "source": [
                "import matplotlib.pyplot as plt\n",
                "plt.figure()\n",
                "plt.imshow(Z1, extent=[-3.14, 3.14,-3.14, 3.14])\n",
                "plt.show()"
            ]
        },
        {
            "cell_type": "code",
            "execution_count": null,
            "metadata": {},
            "outputs": [],
            "source": [
                "# muzeme vsak vyjit z predchazejiciho a Y neiterovat\n",
                "def calc_v2(X, Y): ###\n",
                "    Z1 = np.empty((Y.shape[0], X.shape[0])) ###\n",
                "    for ix, x in enumerate(X): ###\n",
                "        for iy, y in enumerate(Y): ###\n",
                "            Z1[iy, ix] = np.sin(x) + np.cos(y) * x ###            \n",
                "# jak to udelat?\n",
                "Z1 = calc_v2(X, Y) ###\n",
                "plt.figure() ###\n",
                "plt.imshow(Z1, extent=[-3.14, 3.14,-3.14, 3.14]) ###\n",
                "plt.show()###"
            ]
        },
        {
            "cell_type": "markdown",
            "metadata": {},
            "source": [
                "### Vyu\u017eit\u00ed b'castu\n",
                "Jak ale se vyhnout v\u0161em smy\u010dk\u00e1m: Sta\u010dilo by vytvo\u0159it hodnoty \"x\" pro celou 2D m\u0159\u00ed\u017eku a hodnoty Y pro celou m\u0159\u00ed\u017eku. K tomu pou\u017eijeme broadcast\n",
                "![Broadcast](bcast.png)"
            ]
        },
        {
            "cell_type": "code",
            "execution_count": null,
            "metadata": {},
            "outputs": [],
            "source": [
                "# S vyu\u017eit\u00edm broadcastu v\u0161ak jsme schopni pou\u017e\u00edt jen jednu funkci!\n"
            ]
        },
        {
            "cell_type": "code",
            "execution_count": null,
            "metadata": {},
            "outputs": [],
            "source": [
                "plt.figure()\n",
                "plt.imshow(Z2, extent=[-3.14, 3.14,-3.14, 3.14])\n",
                "plt.show()"
            ]
        },
        {
            "cell_type": "code",
            "execution_count": null,
            "metadata": {},
            "outputs": [],
            "source": [
                "# Vysledky by m\u011bly odpov\u00eddat\n",
                "np.allclose(Z1, Z2)"
            ]
        },
        {
            "cell_type": "markdown",
            "metadata": {},
            "source": [
                "Pro zm\u011bnu rozm\u011br\u016f m\u016f\u017eeme pou\u017e\u00edt i indexov\u00e1n\u00ed `y[:, np.newaxis] == y.reshape(-1, 1)`"
            ]
        },
        {
            "cell_type": "code",
            "execution_count": null,
            "metadata": {},
            "outputs": [],
            "source": [
                "# Co v\u00fdkonnost?\n",
                "X = np.linspace(-np.pi, np.pi, 500)\n",
                "Y = np.linspace(-np.pi, np.pi, 500)\n",
                "\n",
                "%time calc_v1(X,Y)\n",
                "%time np.sin(X) + np.cos(Y[:, np.newaxis]) * X"
            ]
        },
        {
            "cell_type": "code",
            "execution_count": null,
            "metadata": {},
            "outputs": [],
            "source": []
        }
    ],
    "metadata": {
        "celltoolbar": "Slideshow",
        "kernelspec": {
            "display_name": "Python 3.10.6 64-bit",
            "language": "python",
            "name": "python3"
        },
        "language_info": {
            "codemirror_mode": {
                "name": "ipython",
                "version": 3
            },
            "file_extension": ".py",
            "mimetype": "text/x-python",
            "name": "python",
            "nbconvert_exporter": "python",
            "pygments_lexer": "ipython3",
            "version": "3.12.3"
        },
        "vscode": {
            "interpreter": {
                "hash": "e7370f93d1d0cde622a1f8e1c04877d8463912d04d973331ad4851f04de6915a"
            }
        }
    },
    "nbformat": 4,
    "nbformat_minor": 4
}